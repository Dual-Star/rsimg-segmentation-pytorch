{
 "cells": [
  {
   "attachments": {},
   "cell_type": "markdown",
   "metadata": {},
   "source": [
    "### **Check the backbone models and the structured segmentation models.**"
   ]
  },
  {
   "cell_type": "code",
   "execution_count": 1,
   "metadata": {},
   "outputs": [],
   "source": [
    "import torch\n",
    "from model_backbone.xception65 import Xception65\n",
    "from model_backbone.mobilenet import MobileNetV2\n",
    "from model_seg.deeplabv3plus import deeplabv3plus\n",
    "from model_seg.deeplabv3plus_mobilev2 import deeplabv3plus_mobilev2\n",
    "from model_seg.unet import unet\n",
    "from model_seg.surface_water.gmnet import gmnet\n",
    "from model_seg.surface_water.watnet import watnet\n",
    "from model_seg.hrnet import hrnet\n",
    "from torchsummary import summary\n",
    "import matplotlib.pyplot as plt\n"
   ]
  },
  {
   "attachments": {},
   "cell_type": "markdown",
   "metadata": {},
   "source": [
    "##### Input data simulation. we assume the input data with patch size of 256x256, band number of 4, and batch size of 4.   \n",
    "##### Note: the gmnet requirs multiscale patches input, so multiscale patches also are simulated here.\n"
   ]
  },
  {
   "cell_type": "code",
   "execution_count": 2,
   "metadata": {},
   "outputs": [],
   "source": [
    "input = torch.randn(4, 4, 256, 256)\n",
    "input_scales = [torch.randn(4, 4, 256, 256), torch.randn(4, 4, 256, 256), torch.randn(4, 4, 256, 256)]\n",
    "truth = torch.randn(4, 1, 256, 256)\n",
    "# # input_scales, truth = torch.load(f='data/test_patches/patch_000.pt')\n",
    "# # input_scales = [torch.unsqueeze(input, 0) for input in input_scales]\n"
   ]
  },
  {
   "attachments": {},
   "cell_type": "markdown",
   "metadata": {},
   "source": [
    "### Check backbone networks."
   ]
  },
  {
   "cell_type": "code",
   "execution_count": 3,
   "metadata": {},
   "outputs": [
    {
     "name": "stdout",
     "output_type": "stream",
     "text": [
      "output shape: torch.Size([4, 2])\n"
     ]
    }
   ],
   "source": [
    "model = Xception65(num_bands=4, num_classes=2)\n",
    "outp = model(input)\n",
    "print('output shape:', outp.shape)\n"
   ]
  },
  {
   "cell_type": "code",
   "execution_count": 4,
   "metadata": {},
   "outputs": [
    {
     "name": "stdout",
     "output_type": "stream",
     "text": [
      "torch.Size([4, 4, 256, 256])\n",
      "torch.Size([4, 32, 128, 128])\n",
      "output shape: torch.Size([4, 2])\n"
     ]
    }
   ],
   "source": [
    "model = MobileNetV2(num_bands=4, num_classes=2)\n",
    "outp = model(input)\n",
    "print('output shape:', outp.shape)\n"
   ]
  },
  {
   "attachments": {},
   "cell_type": "markdown",
   "metadata": {},
   "source": [
    "### Check segmentation networks."
   ]
  },
  {
   "cell_type": "code",
   "execution_count": 5,
   "metadata": {},
   "outputs": [
    {
     "name": "stdout",
     "output_type": "stream",
     "text": [
      "output: torch.Size([4, 1, 256, 256])\n"
     ]
    }
   ],
   "source": [
    "model = unet(num_bands=4, num_classes=2)\n",
    "outp = model(input)\n",
    "print('output:', outp.shape)\n"
   ]
  },
  {
   "cell_type": "code",
   "execution_count": 6,
   "metadata": {},
   "outputs": [
    {
     "name": "stdout",
     "output_type": "stream",
     "text": [
      "output: torch.Size([4, 1, 256, 256])\n"
     ]
    }
   ],
   "source": [
    "model = deeplabv3plus(num_bands=4, num_classes=2)\n",
    "outp = model(input)\n",
    "print('output:', outp.shape)\n"
   ]
  },
  {
   "cell_type": "code",
   "execution_count": 7,
   "metadata": {},
   "outputs": [
    {
     "name": "stdout",
     "output_type": "stream",
     "text": [
      "output: torch.Size([4, 1, 256, 256])\n"
     ]
    }
   ],
   "source": [
    "model = deeplabv3plus_mobilev2(num_bands=4, num_classes=2, channels_fea=[16, 24, 64])\n",
    "outp = model(input)\n",
    "print('output:', outp.shape)\n"
   ]
  },
  {
   "cell_type": "code",
   "execution_count": 8,
   "metadata": {},
   "outputs": [
    {
     "name": "stdout",
     "output_type": "stream",
     "text": [
      "output: torch.Size([4, 1, 256, 256])\n"
     ]
    }
   ],
   "source": [
    "model = watnet(num_bands=4, num_classes=2)\n",
    "outp = model(input)\n",
    "print('output:', outp.shape)\n"
   ]
  },
  {
   "cell_type": "code",
   "execution_count": 9,
   "metadata": {},
   "outputs": [
    {
     "name": "stdout",
     "output_type": "stream",
     "text": [
      "output: torch.Size([4, 1, 256, 256])\n"
     ]
    }
   ],
   "source": [
    "model = hrnet(num_bands=4, num_classes=2)\n",
    "outp = model(input)\n",
    "print('output:', outp.shape)\n"
   ]
  },
  {
   "cell_type": "code",
   "execution_count": 13,
   "metadata": {},
   "outputs": [
    {
     "name": "stdout",
     "output_type": "stream",
     "text": [
      "output: torch.Size([4, 1, 256, 256])\n"
     ]
    }
   ],
   "source": [
    "model = gmnet(num_bands=4, num_classes=2, scale_high=2048, scale_mid=512, scale_low=256)\n",
    "outp = model(input_scales)\n",
    "print('output:', outp.shape)\n",
    "\n"
   ]
  }
 ],
 "metadata": {
  "kernelspec": {
   "display_name": "venv",
   "language": "python",
   "name": "python3"
  },
  "language_info": {
   "codemirror_mode": {
    "name": "ipython",
    "version": 3
   },
   "file_extension": ".py",
   "mimetype": "text/x-python",
   "name": "python",
   "nbconvert_exporter": "python",
   "pygments_lexer": "ipython3",
   "version": "3.10.13"
  },
  "orig_nbformat": 4
 },
 "nbformat": 4,
 "nbformat_minor": 2
}
